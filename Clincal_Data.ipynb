{
 "cells": [
  {
   "cell_type": "code",
<<<<<<< HEAD
   "execution_count": 13,
   "metadata": {},
   "outputs": [
    {
     "name": "stdout",
     "output_type": "stream",
     "text": [
      "35\n",
      "(5, 7)\n"
     ]
=======
   "execution_count": 16,
   "metadata": {},
   "outputs": [
    {
     "data": {
      "text/plain": [
       "(5, 7)"
      ]
     },
     "execution_count": 16,
     "metadata": {},
     "output_type": "execute_result"
>>>>>>> 29fd7d69c637a2d626f3b5cc09b7a477b2a37d8b
    }
   ],
   "source": [
    "import pandas as pd; \n",
    "\n",
    "#make data frame\n",
    "\n",
    "clinical = pd.DataFrame({\n",
    "    \"patient\": [\"P2938\" , \"P2829\" , \"P2885\" , \"P2731\", \"P2740\"],\n",
    "    \"year_of_birth\": [1959 , 1953 , 1967, 1960 , 1972 ], \n",
    "    \"age_at_diagnosis\":  [20880 , 22693 , 18689 , 17275 , 16282], \n",
    "    \"race\": [\"white\" , \"white\", \"black or african american\" , \"black or african american\" , \"white\"], \n",
    "    \"tumor_stage\": [\"stage iii\" , \"stage iib\" , \"stage i\" , \"\" , \"\"],\n",
    "    \"diagnosis\": [\"Breast Invasive Carcinoma\" , \"Breast Invasive Carcinoma\" , \"Breast Invasive Carcinoma\" , \"Normal\" , \"Normal\"],\n",
    "    \"subtype\": [\"LumA\" , \"LumA\" , \"Basal\" , \"\" , \"\"]\n",
    "    \n",
    "})\n",
<<<<<<< HEAD
    "#rows and columns\n",
    "print(clinical.size)\n",
    "print(clinical.shape)\n",
    "\n",
    "#number of patients\n"
   ]
  },
  {
   "cell_type": "code",
   "execution_count": 9,
   "metadata": {},
   "outputs": [
    {
     "data": {
      "text/plain": [
       "5"
      ]
     },
     "execution_count": 9,
     "metadata": {},
     "output_type": "execute_result"
    }
   ],
   "source": [
    "#number of patients\n",
    "len(clinical.patient)\n"
   ]
  },
  {
   "cell_type": "code",
   "execution_count": 12,
   "metadata": {},
   "outputs": [
    {
     "name": "stdout",
     "output_type": "stream",
     "text": [
      "RangeIndex(start=0, stop=5, step=1)\n",
      "[RangeIndex(start=0, stop=5, step=1), Index(['patient', 'year_of_birth', 'age_at_diagnosis', 'race', 'tumor_stage',\n",
      "       'diagnosis', 'subtype'],\n",
      "      dtype='object')]\n",
      "Index(['patient', 'year_of_birth', 'age_at_diagnosis', 'race', 'tumor_stage',\n",
      "       'diagnosis', 'subtype'],\n",
      "      dtype='object')\n"
     ]
    }
   ],
   "source": [
    "print(clinical.index)\n",
    "print(clinical.axes)\n",
    "print(clinical.columns)"
   ]
  },
  {
   "cell_type": "code",
   "execution_count": 16,
   "metadata": {},
   "outputs": [
    {
     "name": "stdout",
     "output_type": "stream",
     "text": [
      "{'patient': ['P2938', 'P2829', 'P2885', 'P2731', 'P2740'], 'year_of_birth': [1959, 1953, 1967, 1960, 1972], 'age_at_diagnosis': [20880, 22693, 18689, 17275, 16282], 'race': ['white', 'white', 'black or african american', 'black or african american', 'white'], 'tumor_stage': ['stage iii', 'stage iib', 'stage i', '', ''], 'diagnosis': ['Breast Invasive Carcinoma', 'Breast Invasive Carcinoma', 'Breast Invasive Carcinoma', 'Normal', 'Normal'], 'subtype': ['LumA', 'LumA', 'Basal', '', '']}\n"
     ]
    }
   ],
   "source": [
    "funzies = clinical.to_dict('list')\n",
    "print(funzies)"
   ]
  },
  {
   "cell_type": "code",
   "execution_count": 17,
   "metadata": {},
   "outputs": [
    {
     "data": {
      "text/plain": [
       "0                        white\n",
       "1                        white\n",
       "2    black or african american\n",
       "3    black or african american\n",
       "4                        white\n",
       "Name: race, dtype: object"
      ]
     },
     "execution_count": 17,
     "metadata": {},
     "output_type": "execute_result"
    }
   ],
   "source": [
    "clinical.race"
=======
    "\n",
    "clinical.size\n",
    "clinical.shape"
>>>>>>> 29fd7d69c637a2d626f3b5cc09b7a477b2a37d8b
   ]
  },
  {
   "cell_type": "code",
<<<<<<< HEAD
   "execution_count": 20,
   "metadata": {},
   "outputs": [
    {
     "data": {
      "text/plain": [
       "array(['white', 'black or african american'], dtype=object)"
      ]
     },
     "execution_count": 20,
     "metadata": {},
     "output_type": "execute_result"
    }
   ],
   "source": [
    "clinical.race.unique()"
   ]
  },
  {
   "cell_type": "code",
   "execution_count": 21,
   "metadata": {},
   "outputs": [
    {
     "data": {
      "text/plain": [
       "2"
      ]
     },
     "execution_count": 21,
     "metadata": {},
     "output_type": "execute_result"
    }
   ],
   "source": [
    "clinical.race.nunique()"
   ]
  },
  {
   "cell_type": "code",
   "execution_count": 27,
   "metadata": {},
   "outputs": [
    {
     "ename": "AttributeError",
     "evalue": "'DataFrameGroupBy' object has no attribute 'value'",
     "output_type": "error",
     "traceback": [
      "\u001b[1;31m---------------------------------------------------------------------------\u001b[0m",
      "\u001b[1;31mAttributeError\u001b[0m                            Traceback (most recent call last)",
      "\u001b[1;32m<ipython-input-27-ad226ca43bba>\u001b[0m in \u001b[0;36m<module>\u001b[1;34m\u001b[0m\n\u001b[1;32m----> 1\u001b[1;33m \u001b[0mclinical\u001b[0m\u001b[1;33m.\u001b[0m\u001b[0mgroupby\u001b[0m\u001b[1;33m(\u001b[0m\u001b[1;34m'race'\u001b[0m\u001b[1;33m)\u001b[0m\u001b[1;33m.\u001b[0m\u001b[0mvalue\u001b[0m\u001b[1;33m.\u001b[0m\u001b[0munique\u001b[0m\u001b[1;33m(\u001b[0m\u001b[1;33m)\u001b[0m\u001b[1;33m\u001b[0m\u001b[1;33m\u001b[0m\u001b[0m\n\u001b[0m",
      "\u001b[1;32mC:\\ProgramData\\Anaconda3\\lib\\site-packages\\pandas\\core\\groupby\\groupby.py\u001b[0m in \u001b[0;36m__getattr__\u001b[1;34m(self, attr)\u001b[0m\n\u001b[0;32m    763\u001b[0m \u001b[1;33m\u001b[0m\u001b[0m\n\u001b[0;32m    764\u001b[0m         raise AttributeError(\"%r object has no attribute %r\" %\n\u001b[1;32m--> 765\u001b[1;33m                              (type(self).__name__, attr))\n\u001b[0m\u001b[0;32m    766\u001b[0m \u001b[1;33m\u001b[0m\u001b[0m\n\u001b[0;32m    767\u001b[0m     @Substitution(klass='GroupBy',\n",
      "\u001b[1;31mAttributeError\u001b[0m: 'DataFrameGroupBy' object has no attribute 'value'"
     ]
    }
   ],
   "source": [
    "clinical.groupby('race').value.unique()"
   ]
=======
   "execution_count": null,
   "metadata": {},
   "outputs": [],
   "source": []
>>>>>>> 29fd7d69c637a2d626f3b5cc09b7a477b2a37d8b
  }
 ],
 "metadata": {
  "kernelspec": {
   "display_name": "Python 3",
   "language": "python",
   "name": "python3"
  },
  "language_info": {
   "codemirror_mode": {
    "name": "ipython",
    "version": 3
   },
   "file_extension": ".py",
   "mimetype": "text/x-python",
   "name": "python",
   "nbconvert_exporter": "python",
   "pygments_lexer": "ipython3",
   "version": "3.7.1"
  }
 },
 "nbformat": 4,
 "nbformat_minor": 2
}
